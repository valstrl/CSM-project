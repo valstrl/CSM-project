{
 "cells": [
  {
   "cell_type": "code",
   "execution_count": 13,
   "metadata": {},
   "outputs": [],
   "source": [
    "import numpy as np\n",
    "import pandas as pd\n",
    "from datetime import datetime\n",
    "import matplotlib.pyplot as plt\n",
    "%matplotlib inline"
   ]
  },
  {
   "cell_type": "code",
   "execution_count": 5,
   "metadata": {},
   "outputs": [
    {
     "data": {
      "text/html": [
       "<div>\n",
       "<style>\n",
       "    .dataframe thead tr:only-child th {\n",
       "        text-align: right;\n",
       "    }\n",
       "\n",
       "    .dataframe thead th {\n",
       "        text-align: left;\n",
       "    }\n",
       "\n",
       "    .dataframe tbody tr th {\n",
       "        vertical-align: top;\n",
       "    }\n",
       "</style>\n",
       "<table border=\"1\" class=\"dataframe\">\n",
       "  <thead>\n",
       "    <tr style=\"text-align: right;\">\n",
       "      <th></th>\n",
       "      <th>_id</th>\n",
       "      <th>contributors</th>\n",
       "      <th>coordinates</th>\n",
       "      <th>created_at</th>\n",
       "      <th>display_text_range</th>\n",
       "      <th>entities</th>\n",
       "      <th>extended_entities</th>\n",
       "      <th>extended_tweet</th>\n",
       "      <th>favorite_count</th>\n",
       "      <th>favorited</th>\n",
       "      <th>...</th>\n",
       "      <th>quoted_status</th>\n",
       "      <th>quoted_status_id</th>\n",
       "      <th>quoted_status_id_str</th>\n",
       "      <th>retweet_count</th>\n",
       "      <th>retweeted</th>\n",
       "      <th>source</th>\n",
       "      <th>text</th>\n",
       "      <th>timestamp_ms</th>\n",
       "      <th>truncated</th>\n",
       "      <th>user</th>\n",
       "    </tr>\n",
       "  </thead>\n",
       "  <tbody>\n",
       "    <tr>\n",
       "      <th>0</th>\n",
       "      <td>{'$oid': '55b932fd0a1776527f627ec2'}</td>\n",
       "      <td>NaN</td>\n",
       "      <td>None</td>\n",
       "      <td>2015-07-29 20:09:32</td>\n",
       "      <td>NaN</td>\n",
       "      <td>{'symbols': [], 'user_mentions': [], 'urls': [...</td>\n",
       "      <td>NaN</td>\n",
       "      <td>NaN</td>\n",
       "      <td>0</td>\n",
       "      <td>False</td>\n",
       "      <td>...</td>\n",
       "      <td>NaN</td>\n",
       "      <td>NaN</td>\n",
       "      <td>NaN</td>\n",
       "      <td>0</td>\n",
       "      <td>False</td>\n",
       "      <td>&lt;a href=\"http://twitter.com/download/iphone\" r...</td>\n",
       "      <td>Flemme de me préparer</td>\n",
       "      <td>2015-07-29 20:09:32.554</td>\n",
       "      <td>False</td>\n",
       "      <td>{'profile_image_url_https': 'https://pbs.twimg...</td>\n",
       "    </tr>\n",
       "    <tr>\n",
       "      <th>1</th>\n",
       "      <td>{'$oid': '55b9720c0a1776527f628c28'}</td>\n",
       "      <td>NaN</td>\n",
       "      <td>None</td>\n",
       "      <td>2015-07-30 00:38:35</td>\n",
       "      <td>NaN</td>\n",
       "      <td>{'symbols': [], 'user_mentions': [], 'urls': [...</td>\n",
       "      <td>NaN</td>\n",
       "      <td>NaN</td>\n",
       "      <td>0</td>\n",
       "      <td>False</td>\n",
       "      <td>...</td>\n",
       "      <td>NaN</td>\n",
       "      <td>NaN</td>\n",
       "      <td>NaN</td>\n",
       "      <td>0</td>\n",
       "      <td>False</td>\n",
       "      <td>&lt;a href=\"http://twitter.com/download/iphone\" r...</td>\n",
       "      <td>Trop hâte d'aller à Zurich</td>\n",
       "      <td>2015-07-30 00:38:35.304</td>\n",
       "      <td>False</td>\n",
       "      <td>{'profile_image_url_https': 'https://pbs.twimg...</td>\n",
       "    </tr>\n",
       "    <tr>\n",
       "      <th>2</th>\n",
       "      <td>{'$oid': '55b9730c0a1776527f628c3b'}</td>\n",
       "      <td>NaN</td>\n",
       "      <td>None</td>\n",
       "      <td>2015-07-30 00:42:51</td>\n",
       "      <td>NaN</td>\n",
       "      <td>{'symbols': [], 'user_mentions': [], 'urls': [...</td>\n",
       "      <td>NaN</td>\n",
       "      <td>NaN</td>\n",
       "      <td>0</td>\n",
       "      <td>False</td>\n",
       "      <td>...</td>\n",
       "      <td>NaN</td>\n",
       "      <td>NaN</td>\n",
       "      <td>NaN</td>\n",
       "      <td>0</td>\n",
       "      <td>False</td>\n",
       "      <td>&lt;a href=\"http://twitter.com/download/iphone\" r...</td>\n",
       "      <td>mais accidentellement il ajouta a cette mixtur...</td>\n",
       "      <td>2015-07-30 00:42:51.603</td>\n",
       "      <td>False</td>\n",
       "      <td>{'profile_image_url_https': 'https://pbs.twimg...</td>\n",
       "    </tr>\n",
       "    <tr>\n",
       "      <th>3</th>\n",
       "      <td>{'$oid': '55bbca590a1776527f62dacc'}</td>\n",
       "      <td>NaN</td>\n",
       "      <td>None</td>\n",
       "      <td>2015-07-31 19:19:53</td>\n",
       "      <td>NaN</td>\n",
       "      <td>{'symbols': [], 'user_mentions': [{'indices': ...</td>\n",
       "      <td>NaN</td>\n",
       "      <td>NaN</td>\n",
       "      <td>0</td>\n",
       "      <td>False</td>\n",
       "      <td>...</td>\n",
       "      <td>NaN</td>\n",
       "      <td>NaN</td>\n",
       "      <td>NaN</td>\n",
       "      <td>0</td>\n",
       "      <td>False</td>\n",
       "      <td>&lt;a href=\"http://tapbots.com/tweetbot\" rel=\"nof...</td>\n",
       "      <td>@sansplomb99 lui a payé en effet 😁</td>\n",
       "      <td>2015-07-31 19:19:53.202</td>\n",
       "      <td>False</td>\n",
       "      <td>{'profile_image_url_https': 'https://pbs.twimg...</td>\n",
       "    </tr>\n",
       "    <tr>\n",
       "      <th>4</th>\n",
       "      <td>{'$oid': '55bc9c8e0a1776527f62ee4a'}</td>\n",
       "      <td>NaN</td>\n",
       "      <td>None</td>\n",
       "      <td>2015-08-01 10:16:45</td>\n",
       "      <td>NaN</td>\n",
       "      <td>{'symbols': [], 'user_mentions': [], 'urls': [...</td>\n",
       "      <td>NaN</td>\n",
       "      <td>NaN</td>\n",
       "      <td>0</td>\n",
       "      <td>False</td>\n",
       "      <td>...</td>\n",
       "      <td>{'coordinates': None, 'user': {'profile_image_...</td>\n",
       "      <td>{'$numberLong': '627406966093164544'}</td>\n",
       "      <td>6.274070e+17</td>\n",
       "      <td>0</td>\n",
       "      <td>False</td>\n",
       "      <td>&lt;a href=\"http://twitter.com/download/iphone\" r...</td>\n",
       "      <td>Holaaa Argentinaa!! Ya terminó la clase y estu...</td>\n",
       "      <td>2015-08-01 10:16:45.789</td>\n",
       "      <td>False</td>\n",
       "      <td>{'profile_image_url_https': 'https://pbs.twimg...</td>\n",
       "    </tr>\n",
       "  </tbody>\n",
       "</table>\n",
       "<p>5 rows × 33 columns</p>\n",
       "</div>"
      ],
      "text/plain": [
       "                                    _id  contributors coordinates  \\\n",
       "0  {'$oid': '55b932fd0a1776527f627ec2'}           NaN        None   \n",
       "1  {'$oid': '55b9720c0a1776527f628c28'}           NaN        None   \n",
       "2  {'$oid': '55b9730c0a1776527f628c3b'}           NaN        None   \n",
       "3  {'$oid': '55bbca590a1776527f62dacc'}           NaN        None   \n",
       "4  {'$oid': '55bc9c8e0a1776527f62ee4a'}           NaN        None   \n",
       "\n",
       "           created_at display_text_range  \\\n",
       "0 2015-07-29 20:09:32                NaN   \n",
       "1 2015-07-30 00:38:35                NaN   \n",
       "2 2015-07-30 00:42:51                NaN   \n",
       "3 2015-07-31 19:19:53                NaN   \n",
       "4 2015-08-01 10:16:45                NaN   \n",
       "\n",
       "                                            entities extended_entities  \\\n",
       "0  {'symbols': [], 'user_mentions': [], 'urls': [...               NaN   \n",
       "1  {'symbols': [], 'user_mentions': [], 'urls': [...               NaN   \n",
       "2  {'symbols': [], 'user_mentions': [], 'urls': [...               NaN   \n",
       "3  {'symbols': [], 'user_mentions': [{'indices': ...               NaN   \n",
       "4  {'symbols': [], 'user_mentions': [], 'urls': [...               NaN   \n",
       "\n",
       "  extended_tweet  favorite_count  favorited  \\\n",
       "0            NaN               0      False   \n",
       "1            NaN               0      False   \n",
       "2            NaN               0      False   \n",
       "3            NaN               0      False   \n",
       "4            NaN               0      False   \n",
       "\n",
       "                         ...                          \\\n",
       "0                        ...                           \n",
       "1                        ...                           \n",
       "2                        ...                           \n",
       "3                        ...                           \n",
       "4                        ...                           \n",
       "\n",
       "                                       quoted_status  \\\n",
       "0                                                NaN   \n",
       "1                                                NaN   \n",
       "2                                                NaN   \n",
       "3                                                NaN   \n",
       "4  {'coordinates': None, 'user': {'profile_image_...   \n",
       "\n",
       "                        quoted_status_id quoted_status_id_str  retweet_count  \\\n",
       "0                                    NaN                  NaN              0   \n",
       "1                                    NaN                  NaN              0   \n",
       "2                                    NaN                  NaN              0   \n",
       "3                                    NaN                  NaN              0   \n",
       "4  {'$numberLong': '627406966093164544'}         6.274070e+17              0   \n",
       "\n",
       "  retweeted                                             source  \\\n",
       "0     False  <a href=\"http://twitter.com/download/iphone\" r...   \n",
       "1     False  <a href=\"http://twitter.com/download/iphone\" r...   \n",
       "2     False  <a href=\"http://twitter.com/download/iphone\" r...   \n",
       "3     False  <a href=\"http://tapbots.com/tweetbot\" rel=\"nof...   \n",
       "4     False  <a href=\"http://twitter.com/download/iphone\" r...   \n",
       "\n",
       "                                                text            timestamp_ms  \\\n",
       "0                              Flemme de me préparer 2015-07-29 20:09:32.554   \n",
       "1                         Trop hâte d'aller à Zurich 2015-07-30 00:38:35.304   \n",
       "2  mais accidentellement il ajouta a cette mixtur... 2015-07-30 00:42:51.603   \n",
       "3                 @sansplomb99 lui a payé en effet 😁 2015-07-31 19:19:53.202   \n",
       "4  Holaaa Argentinaa!! Ya terminó la clase y estu... 2015-08-01 10:16:45.789   \n",
       "\n",
       "   truncated                                               user  \n",
       "0      False  {'profile_image_url_https': 'https://pbs.twimg...  \n",
       "1      False  {'profile_image_url_https': 'https://pbs.twimg...  \n",
       "2      False  {'profile_image_url_https': 'https://pbs.twimg...  \n",
       "3      False  {'profile_image_url_https': 'https://pbs.twimg...  \n",
       "4      False  {'profile_image_url_https': 'https://pbs.twimg...  \n",
       "\n",
       "[5 rows x 33 columns]"
      ]
     },
     "execution_count": 5,
     "metadata": {},
     "output_type": "execute_result"
    }
   ],
   "source": [
    "# load json twitter data\n",
    "data= pd.read_json('../data/lausanne_50K.json',typ='frame',lines=True)\n",
    "data.head()"
   ]
  },
  {
   "cell_type": "code",
   "execution_count": 9,
   "metadata": {},
   "outputs": [],
   "source": [
    "data['created_at']= pd.to_datetime(data['created_at'])"
   ]
  },
  {
   "cell_type": "markdown",
   "metadata": {},
   "source": [
    "## Basic statistics"
   ]
  },
  {
   "cell_type": "code",
   "execution_count": 10,
   "metadata": {},
   "outputs": [
    {
     "data": {
      "text/html": [
       "<div>\n",
       "<style>\n",
       "    .dataframe thead tr:only-child th {\n",
       "        text-align: right;\n",
       "    }\n",
       "\n",
       "    .dataframe thead th {\n",
       "        text-align: left;\n",
       "    }\n",
       "\n",
       "    .dataframe tbody tr th {\n",
       "        vertical-align: top;\n",
       "    }\n",
       "</style>\n",
       "<table border=\"1\" class=\"dataframe\">\n",
       "  <thead>\n",
       "    <tr style=\"text-align: right;\">\n",
       "      <th></th>\n",
       "      <th>contributors</th>\n",
       "      <th>favorite_count</th>\n",
       "      <th>id_str</th>\n",
       "      <th>in_reply_to_status_id_str</th>\n",
       "      <th>in_reply_to_user_id_str</th>\n",
       "      <th>is_quote_status</th>\n",
       "      <th>possibly_sensitive</th>\n",
       "      <th>quoted_status_id_str</th>\n",
       "      <th>retweet_count</th>\n",
       "    </tr>\n",
       "  </thead>\n",
       "  <tbody>\n",
       "    <tr>\n",
       "      <th>count</th>\n",
       "      <td>0.0</td>\n",
       "      <td>50000.0</td>\n",
       "      <td>5.000000e+04</td>\n",
       "      <td>1.634000e+04</td>\n",
       "      <td>1.927100e+04</td>\n",
       "      <td>49958.000000</td>\n",
       "      <td>20941.000000</td>\n",
       "      <td>3.810000e+03</td>\n",
       "      <td>50000.0</td>\n",
       "    </tr>\n",
       "    <tr>\n",
       "      <th>mean</th>\n",
       "      <td>NaN</td>\n",
       "      <td>0.0</td>\n",
       "      <td>7.649092e+17</td>\n",
       "      <td>7.656941e+17</td>\n",
       "      <td>4.957148e+16</td>\n",
       "      <td>0.076364</td>\n",
       "      <td>0.009598</td>\n",
       "      <td>7.596949e+17</td>\n",
       "      <td>0.0</td>\n",
       "    </tr>\n",
       "    <tr>\n",
       "      <th>std</th>\n",
       "      <td>NaN</td>\n",
       "      <td>0.0</td>\n",
       "      <td>2.930100e+16</td>\n",
       "      <td>3.429869e+16</td>\n",
       "      <td>1.852219e+17</td>\n",
       "      <td>0.265583</td>\n",
       "      <td>0.097502</td>\n",
       "      <td>3.529139e+16</td>\n",
       "      <td>0.0</td>\n",
       "    </tr>\n",
       "    <tr>\n",
       "      <th>min</th>\n",
       "      <td>NaN</td>\n",
       "      <td>0.0</td>\n",
       "      <td>6.264847e+17</td>\n",
       "      <td>2.401283e+10</td>\n",
       "      <td>8.412000e+03</td>\n",
       "      <td>0.000000</td>\n",
       "      <td>0.000000</td>\n",
       "      <td>3.194941e+17</td>\n",
       "      <td>0.0</td>\n",
       "    </tr>\n",
       "    <tr>\n",
       "      <th>25%</th>\n",
       "      <td>NaN</td>\n",
       "      <td>0.0</td>\n",
       "      <td>7.374537e+17</td>\n",
       "      <td>7.375975e+17</td>\n",
       "      <td>1.547980e+08</td>\n",
       "      <td>0.000000</td>\n",
       "      <td>0.000000</td>\n",
       "      <td>7.367500e+17</td>\n",
       "      <td>0.0</td>\n",
       "    </tr>\n",
       "    <tr>\n",
       "      <th>50%</th>\n",
       "      <td>NaN</td>\n",
       "      <td>0.0</td>\n",
       "      <td>7.673406e+17</td>\n",
       "      <td>7.715668e+17</td>\n",
       "      <td>5.573253e+08</td>\n",
       "      <td>0.000000</td>\n",
       "      <td>0.000000</td>\n",
       "      <td>7.576861e+17</td>\n",
       "      <td>0.0</td>\n",
       "    </tr>\n",
       "    <tr>\n",
       "      <th>75%</th>\n",
       "      <td>NaN</td>\n",
       "      <td>0.0</td>\n",
       "      <td>7.888412e+17</td>\n",
       "      <td>7.921157e+17</td>\n",
       "      <td>2.483374e+09</td>\n",
       "      <td>0.000000</td>\n",
       "      <td>0.000000</td>\n",
       "      <td>7.847596e+17</td>\n",
       "      <td>0.0</td>\n",
       "    </tr>\n",
       "    <tr>\n",
       "      <th>max</th>\n",
       "      <td>NaN</td>\n",
       "      <td>0.0</td>\n",
       "      <td>8.145965e+17</td>\n",
       "      <td>8.145963e+17</td>\n",
       "      <td>8.135226e+17</td>\n",
       "      <td>1.000000</td>\n",
       "      <td>1.000000</td>\n",
       "      <td>8.145638e+17</td>\n",
       "      <td>0.0</td>\n",
       "    </tr>\n",
       "  </tbody>\n",
       "</table>\n",
       "</div>"
      ],
      "text/plain": [
       "       contributors  favorite_count        id_str  in_reply_to_status_id_str  \\\n",
       "count           0.0         50000.0  5.000000e+04               1.634000e+04   \n",
       "mean            NaN             0.0  7.649092e+17               7.656941e+17   \n",
       "std             NaN             0.0  2.930100e+16               3.429869e+16   \n",
       "min             NaN             0.0  6.264847e+17               2.401283e+10   \n",
       "25%             NaN             0.0  7.374537e+17               7.375975e+17   \n",
       "50%             NaN             0.0  7.673406e+17               7.715668e+17   \n",
       "75%             NaN             0.0  7.888412e+17               7.921157e+17   \n",
       "max             NaN             0.0  8.145965e+17               8.145963e+17   \n",
       "\n",
       "       in_reply_to_user_id_str  is_quote_status  possibly_sensitive  \\\n",
       "count             1.927100e+04     49958.000000        20941.000000   \n",
       "mean              4.957148e+16         0.076364            0.009598   \n",
       "std               1.852219e+17         0.265583            0.097502   \n",
       "min               8.412000e+03         0.000000            0.000000   \n",
       "25%               1.547980e+08         0.000000            0.000000   \n",
       "50%               5.573253e+08         0.000000            0.000000   \n",
       "75%               2.483374e+09         0.000000            0.000000   \n",
       "max               8.135226e+17         1.000000            1.000000   \n",
       "\n",
       "       quoted_status_id_str  retweet_count  \n",
       "count          3.810000e+03        50000.0  \n",
       "mean           7.596949e+17            0.0  \n",
       "std            3.529139e+16            0.0  \n",
       "min            3.194941e+17            0.0  \n",
       "25%            7.367500e+17            0.0  \n",
       "50%            7.576861e+17            0.0  \n",
       "75%            7.847596e+17            0.0  \n",
       "max            8.145638e+17            0.0  "
      ]
     },
     "execution_count": 10,
     "metadata": {},
     "output_type": "execute_result"
    }
   ],
   "source": [
    "data.describe()"
   ]
  },
  {
   "cell_type": "markdown",
   "metadata": {},
   "source": [
    "## Temporal statistics"
   ]
  },
  {
   "cell_type": "code",
   "execution_count": 14,
   "metadata": {},
   "outputs": [
    {
     "data": {
      "text/plain": [
       "<matplotlib.axes._subplots.AxesSubplot at 0x1084021d0>"
      ]
     },
     "execution_count": 14,
     "metadata": {},
     "output_type": "execute_result"
    },
    {
     "data": {
      "image/png": "[encoded data removed]",
      "text/plain": [
       "<matplotlib.figure.Figure at 0x1075f19e8>"
      ]
     },
     "metadata": {},
     "output_type": "display_data"
    }
   ],
   "source": [
    "up_time= pd.DataFrame(columns=['year', 'month','date'])\n",
    "up_time['date']=data['created_at']\n",
    "\n",
    "up_months = pd.to_datetime(data['created_at'],format='%y-%M-%d %H:%M %p').apply(lambda x: x.month)\n",
    "up_time['month']=up_months\n",
    "\n",
    "up_year = pd.to_datetime(data['created_at'],format='%y-%M-%d %H:%M %p').apply(lambda x: x.year)\n",
    "up_time['year']=up_year\n",
    "\n",
    "up_months.hist()"
   ]
  },
  {
   "cell_type": "code",
   "execution_count": 15,
   "metadata": {},
   "outputs": [
    {
     "data": {
      "text/plain": [
       "<matplotlib.axes._subplots.AxesSubplot at 0x1083f4780>"
      ]
     },
     "execution_count": 15,
     "metadata": {},
     "output_type": "execute_result"
    },
    {
     "data": {
      "image/png": "[encoded data removed]",
      "text/plain": [
       "<matplotlib.figure.Figure at 0x1083e5358>"
      ]
     },
     "metadata": {},
     "output_type": "display_data"
    }
   ],
   "source": [
    "up_time.groupby('year')['date'].count().plot.bar()"
   ]
  },
  {
   "cell_type": "code",
   "execution_count": 16,
   "metadata": {},
   "outputs": [
    {
     "data": {
      "text/plain": [
       "<matplotlib.axes._subplots.AxesSubplot at 0x10884c048>"
      ]
     },
     "execution_count": 16,
     "metadata": {},
     "output_type": "execute_result"
    },
    {
     "data": {
      "image/png": "[encoded data removed]",
      "text/plain": [
       "<matplotlib.figure.Figure at 0x108898c50>"
      ]
     },
     "metadata": {},
     "output_type": "display_data"
    }
   ],
   "source": [
    "up_time.groupby(['year','month']).count().plot.bar()"
   ]
  },
  {
   "cell_type": "markdown",
   "metadata": {},
   "source": [
    "## Number of characters"
   ]
  },
  {
   "cell_type": "code",
   "execution_count": 18,
   "metadata": {},
   "outputs": [
    {
     "data": {
      "image/png": "[encoded data removed]",
      "text/plain": [
       "<matplotlib.figure.Figure at 0x108e1f438>"
      ]
     },
     "metadata": {},
     "output_type": "display_data"
    }
   ],
   "source": [
    "nb_characters = pd.DataFrame(data['text'].apply(lambda x : len(x)))\n",
    "\n",
    "f, (ax1, ax2) = plt.subplots(1, 2, figsize=(20,10))\n",
    "f.suptitle('Cumulative distribution #characters/message')\n",
    "\n",
    "ax1.plot(nb_characters.sort_values(by='text').reset_index().groupby('text').count().cumsum()*100/nb_characters.size)\n",
    "ax1.set_xlabel('#characters/message - linear')\n",
    "ax1.set_ylabel('% of status')\n",
    "ax1.grid(color='grey', linestyle='-', linewidth=1, axis='both', which='both')\n",
    "\n",
    "ax2.plot(nb_characters.sort_values(by='text').reset_index().groupby('text').count().cumsum()*100/nb_characters.size)\n",
    "ax2.set_xscale('log')\n",
    "ax2.set_xlabel('#characters/message - log')\n",
    "ax2.set_ylabel('% of status')\n",
    "ax2.grid(color='grey', linestyle='-', linewidth=1, axis='both', which='both')"
   ]
  },
  {
   "cell_type": "code",
   "execution_count": null,
   "metadata": {
    "collapsed": true
   },
   "outputs": [],
   "source": []
  }
 ],
 "metadata": {
  "kernelspec": {
   "display_name": "Python 3",
   "language": "python",
   "name": "python3"
  },
  "language_info": {
   "codemirror_mode": {
    "name": "ipython",
    "version": 3
   },
   "file_extension": ".py",
   "mimetype": "text/x-python",
   "name": "python",
   "nbconvert_exporter": "python",
   "pygments_lexer": "ipython3",
   "version": "3.5.4"
  }
 },
 "nbformat": 4,
 "nbformat_minor": 2
}
