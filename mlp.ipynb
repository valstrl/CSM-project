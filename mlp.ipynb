{
 "cells": [
  {
   "cell_type": "markdown",
   "metadata": {},
   "source": [
    "# MLP\n",
    "\n",
    "### load data"
   ]
  },
  {
   "cell_type": "code",
   "execution_count": 1,
   "metadata": {},
   "outputs": [],
   "source": [
    "from sklearn.neural_network import MLPClassifier\n",
    "from sklearn.metrics import confusion_matrix\n",
    "import numpy as np\n",
    "import pandas as pd\n",
    "from datetime import datetime\n",
    "from functools import reduce\n",
    "import operator \n",
    "import matplotlib.pyplot as plt\n",
    "%matplotlib inline\n",
    "import itertools\n",
    "\n",
    "def str_bool(x):\n",
    "    if x == 'True':\n",
    "        x=1\n",
    "    elif x== 'False':\n",
    "        x=0\n",
    "    return x\n",
    "\n",
    "def plot_confusion_matrix(cm, classes,\n",
    "                          normalize=False,\n",
    "                          title='Confusion matrix',\n",
    "                          cmap=plt.cm.Blues):\n",
    "    \"\"\"\n",
    "    This function prints and plots the confusion matrix.\n",
    "    Normalization can be applied by setting `normalize=True`.\n",
    "    \"\"\"\n",
    "    if normalize:\n",
    "        cm = cm.astype('float') / cm.sum(axis=1)[:, np.newaxis]\n",
    "        print(\"Normalized confusion matrix\")\n",
    "    else:\n",
    "        print('Confusion matrix, without normalization')\n",
    "\n",
    "    print(cm)\n",
    "\n",
    "    plt.imshow(cm, interpolation='nearest', cmap=cmap)\n",
    "    plt.title(title)\n",
    "    plt.colorbar()\n",
    "    tick_marks = np.arange(len(classes))\n",
    "    plt.xticks(tick_marks, classes, rotation=45)\n",
    "    plt.yticks(tick_marks, classes)\n",
    "\n",
    "    fmt = '.2f' if normalize else 'd'\n",
    "    thresh = cm.max() / 2.\n",
    "    for i, j in itertools.product(range(cm.shape[0]), range(cm.shape[1])):\n",
    "        plt.text(j, i, format(cm[i, j], fmt),\n",
    "                 horizontalalignment=\"center\",\n",
    "                 color=\"white\" if cm[i, j] > thresh else \"black\")\n",
    "\n",
    "    plt.tight_layout()\n",
    "    plt.ylabel('True label')\n",
    "    plt.xlabel('Predicted label')\n",
    "\n",
    "        "
   ]
  },
  {
   "cell_type": "code",
   "execution_count": 2,
   "metadata": {
    "scrolled": true
   },
   "outputs": [
    {
     "name": "stdout",
     "output_type": "stream",
     "text": [
      "(34511, 47)\n",
      "(34511, 41)\n"
     ]
    },
    {
     "data": {
      "text/html": [
       "<div>\n",
       "<style scoped>\n",
       "    .dataframe tbody tr th:only-of-type {\n",
       "        vertical-align: middle;\n",
       "    }\n",
       "\n",
       "    .dataframe tbody tr th {\n",
       "        vertical-align: top;\n",
       "    }\n",
       "\n",
       "    .dataframe thead th {\n",
       "        text-align: right;\n",
       "    }\n",
       "</style>\n",
       "<table border=\"1\" class=\"dataframe\">\n",
       "  <thead>\n",
       "    <tr style=\"text-align: right;\">\n",
       "      <th></th>\n",
       "      <th>hashtags</th>\n",
       "      <th>quoted_status</th>\n",
       "      <th>label</th>\n",
       "      <th>Hashtag topic 0</th>\n",
       "      <th>Hashtag topic 1</th>\n",
       "      <th>Hashtag topic 2</th>\n",
       "      <th>Hashtag topic 3</th>\n",
       "      <th>Hashtag topic 4</th>\n",
       "      <th>Hashtag topic 5</th>\n",
       "      <th>Hashtag topic 6</th>\n",
       "      <th>...</th>\n",
       "      <th>image_class</th>\n",
       "      <th>image_score</th>\n",
       "      <th>im_class_0</th>\n",
       "      <th>im_class_1</th>\n",
       "      <th>im_class_2</th>\n",
       "      <th>im_class_3</th>\n",
       "      <th>im_class_4</th>\n",
       "      <th>im_class_5</th>\n",
       "      <th>im_class_6</th>\n",
       "      <th>im_class_7</th>\n",
       "    </tr>\n",
       "    <tr>\n",
       "      <th>tweet_id</th>\n",
       "      <th></th>\n",
       "      <th></th>\n",
       "      <th></th>\n",
       "      <th></th>\n",
       "      <th></th>\n",
       "      <th></th>\n",
       "      <th></th>\n",
       "      <th></th>\n",
       "      <th></th>\n",
       "      <th></th>\n",
       "      <th></th>\n",
       "      <th></th>\n",
       "      <th></th>\n",
       "      <th></th>\n",
       "      <th></th>\n",
       "      <th></th>\n",
       "      <th></th>\n",
       "      <th></th>\n",
       "      <th></th>\n",
       "      <th></th>\n",
       "      <th></th>\n",
       "    </tr>\n",
       "  </thead>\n",
       "  <tbody>\n",
       "    <tr>\n",
       "      <th>55c272820a1776527f63ad53</th>\n",
       "      <td>wakeupman</td>\n",
       "      <td>0</td>\n",
       "      <td>1</td>\n",
       "      <td>0.125</td>\n",
       "      <td>0.125</td>\n",
       "      <td>0.125</td>\n",
       "      <td>0.125</td>\n",
       "      <td>0.125</td>\n",
       "      <td>0.125</td>\n",
       "      <td>0.125</td>\n",
       "      <td>...</td>\n",
       "      <td>NaN</td>\n",
       "      <td>NaN</td>\n",
       "      <td>0.0</td>\n",
       "      <td>0.0</td>\n",
       "      <td>0.0</td>\n",
       "      <td>0.0</td>\n",
       "      <td>0.0</td>\n",
       "      <td>0.0</td>\n",
       "      <td>0.0</td>\n",
       "      <td>0.0</td>\n",
       "    </tr>\n",
       "    <tr>\n",
       "      <th>55c3bfea0a1776527f63df5b</th>\n",
       "      <td>NaN</td>\n",
       "      <td>0</td>\n",
       "      <td>1</td>\n",
       "      <td>0.000</td>\n",
       "      <td>0.000</td>\n",
       "      <td>0.000</td>\n",
       "      <td>0.000</td>\n",
       "      <td>0.000</td>\n",
       "      <td>0.000</td>\n",
       "      <td>0.000</td>\n",
       "      <td>...</td>\n",
       "      <td>NaN</td>\n",
       "      <td>NaN</td>\n",
       "      <td>0.0</td>\n",
       "      <td>0.0</td>\n",
       "      <td>0.0</td>\n",
       "      <td>0.0</td>\n",
       "      <td>0.0</td>\n",
       "      <td>0.0</td>\n",
       "      <td>0.0</td>\n",
       "      <td>0.0</td>\n",
       "    </tr>\n",
       "    <tr>\n",
       "      <th>55c5cf6f0a1776527f641ef3</th>\n",
       "      <td>NaN</td>\n",
       "      <td>0</td>\n",
       "      <td>1</td>\n",
       "      <td>0.000</td>\n",
       "      <td>0.000</td>\n",
       "      <td>0.000</td>\n",
       "      <td>0.000</td>\n",
       "      <td>0.000</td>\n",
       "      <td>0.000</td>\n",
       "      <td>0.000</td>\n",
       "      <td>...</td>\n",
       "      <td>NaN</td>\n",
       "      <td>NaN</td>\n",
       "      <td>0.0</td>\n",
       "      <td>0.0</td>\n",
       "      <td>0.0</td>\n",
       "      <td>0.0</td>\n",
       "      <td>0.0</td>\n",
       "      <td>0.0</td>\n",
       "      <td>0.0</td>\n",
       "      <td>0.0</td>\n",
       "    </tr>\n",
       "    <tr>\n",
       "      <th>55c63c020a1776527f6430bd</th>\n",
       "      <td>NaN</td>\n",
       "      <td>0</td>\n",
       "      <td>1</td>\n",
       "      <td>0.000</td>\n",
       "      <td>0.000</td>\n",
       "      <td>0.000</td>\n",
       "      <td>0.000</td>\n",
       "      <td>0.000</td>\n",
       "      <td>0.000</td>\n",
       "      <td>0.000</td>\n",
       "      <td>...</td>\n",
       "      <td>NaN</td>\n",
       "      <td>NaN</td>\n",
       "      <td>0.0</td>\n",
       "      <td>0.0</td>\n",
       "      <td>0.0</td>\n",
       "      <td>0.0</td>\n",
       "      <td>0.0</td>\n",
       "      <td>0.0</td>\n",
       "      <td>0.0</td>\n",
       "      <td>0.0</td>\n",
       "    </tr>\n",
       "    <tr>\n",
       "      <th>55c694b10a1776527f643f13</th>\n",
       "      <td>NaN</td>\n",
       "      <td>0</td>\n",
       "      <td>1</td>\n",
       "      <td>0.000</td>\n",
       "      <td>0.000</td>\n",
       "      <td>0.000</td>\n",
       "      <td>0.000</td>\n",
       "      <td>0.000</td>\n",
       "      <td>0.000</td>\n",
       "      <td>0.000</td>\n",
       "      <td>...</td>\n",
       "      <td>NaN</td>\n",
       "      <td>NaN</td>\n",
       "      <td>0.0</td>\n",
       "      <td>0.0</td>\n",
       "      <td>0.0</td>\n",
       "      <td>0.0</td>\n",
       "      <td>0.0</td>\n",
       "      <td>0.0</td>\n",
       "      <td>0.0</td>\n",
       "      <td>0.0</td>\n",
       "    </tr>\n",
       "  </tbody>\n",
       "</table>\n",
       "<p>5 rows × 41 columns</p>\n",
       "</div>"
      ],
      "text/plain": [
       "                           hashtags  quoted_status  label  Hashtag topic 0  \\\n",
       "tweet_id                                                                     \n",
       "55c272820a1776527f63ad53  wakeupman              0      1            0.125   \n",
       "55c3bfea0a1776527f63df5b        NaN              0      1            0.000   \n",
       "55c5cf6f0a1776527f641ef3        NaN              0      1            0.000   \n",
       "55c63c020a1776527f6430bd        NaN              0      1            0.000   \n",
       "55c694b10a1776527f643f13        NaN              0      1            0.000   \n",
       "\n",
       "                          Hashtag topic 1  Hashtag topic 2  Hashtag topic 3  \\\n",
       "tweet_id                                                                      \n",
       "55c272820a1776527f63ad53            0.125            0.125            0.125   \n",
       "55c3bfea0a1776527f63df5b            0.000            0.000            0.000   \n",
       "55c5cf6f0a1776527f641ef3            0.000            0.000            0.000   \n",
       "55c63c020a1776527f6430bd            0.000            0.000            0.000   \n",
       "55c694b10a1776527f643f13            0.000            0.000            0.000   \n",
       "\n",
       "                          Hashtag topic 4  Hashtag topic 5  Hashtag topic 6  \\\n",
       "tweet_id                                                                      \n",
       "55c272820a1776527f63ad53            0.125            0.125            0.125   \n",
       "55c3bfea0a1776527f63df5b            0.000            0.000            0.000   \n",
       "55c5cf6f0a1776527f641ef3            0.000            0.000            0.000   \n",
       "55c63c020a1776527f6430bd            0.000            0.000            0.000   \n",
       "55c694b10a1776527f643f13            0.000            0.000            0.000   \n",
       "\n",
       "                             ...      image_class  image_score  im_class_0  \\\n",
       "tweet_id                     ...                                             \n",
       "55c272820a1776527f63ad53     ...              NaN          NaN         0.0   \n",
       "55c3bfea0a1776527f63df5b     ...              NaN          NaN         0.0   \n",
       "55c5cf6f0a1776527f641ef3     ...              NaN          NaN         0.0   \n",
       "55c63c020a1776527f6430bd     ...              NaN          NaN         0.0   \n",
       "55c694b10a1776527f643f13     ...              NaN          NaN         0.0   \n",
       "\n",
       "                          im_class_1  im_class_2  im_class_3  im_class_4  \\\n",
       "tweet_id                                                                   \n",
       "55c272820a1776527f63ad53         0.0         0.0         0.0         0.0   \n",
       "55c3bfea0a1776527f63df5b         0.0         0.0         0.0         0.0   \n",
       "55c5cf6f0a1776527f641ef3         0.0         0.0         0.0         0.0   \n",
       "55c63c020a1776527f6430bd         0.0         0.0         0.0         0.0   \n",
       "55c694b10a1776527f643f13         0.0         0.0         0.0         0.0   \n",
       "\n",
       "                          im_class_5  im_class_6  im_class_7  \n",
       "tweet_id                                                      \n",
       "55c272820a1776527f63ad53         0.0         0.0         0.0  \n",
       "55c3bfea0a1776527f63df5b         0.0         0.0         0.0  \n",
       "55c5cf6f0a1776527f641ef3         0.0         0.0         0.0  \n",
       "55c63c020a1776527f6430bd         0.0         0.0         0.0  \n",
       "55c694b10a1776527f643f13         0.0         0.0         0.0  \n",
       "\n",
       "[5 rows x 41 columns]"
      ]
     },
     "execution_count": 2,
     "metadata": {},
     "output_type": "execute_result"
    }
   ],
   "source": [
    "gt=pd.read_pickle('data/groundtruth_all.pkl')#.drop(['Unnamed: 0','Unnamed: 0.1'], axis =1)\n",
    "print(gt.shape)\n",
    "gt=gt.drop('id', axis =1)\n",
    "gt= gt.set_index('tweet_id')\n",
    "\n",
    "#gt= pd.read_csv('data/groundtruth_hashtags_lang.csv',index_col=0 )\n",
    "\n",
    "#check if NaN tweet_id \n",
    "#gt=gt[~gt['tweet_id'].isna()]\n",
    "#gt=gt.set_index('tweet_id')\n",
    "\n",
    "gt['quoted_status']= ~gt['quoted_status'].isnull()\n",
    "gt[[ 'quoted_status']] = gt[[ 'quoted_status']].astype(int)\n",
    "\n",
    "gt=gt.drop( [ 'lang', 'text', 'user_lang','retweeted'], axis =1)\n",
    "#gt['retweeted'] = gt['retweeted'].apply(lambda x: str_bool(x))\n",
    "\n",
    "\n",
    "lang_col = [col for col in gt.columns if col.startswith('lang_')] +['other lang']\n",
    "user_lang_col= [col for col in gt.columns if col.startswith('user_lang_')] + ['other user lang']\n",
    "hashtag_col= [col for col in gt.columns if col.startswith('Hashtag topic')] \n",
    "img_col= [col for col in gt.columns if col.startswith('im_class_')] \n",
    "topic_col= [col for col in gt.columns if col.startswith('t_topic_')]\n",
    "\n",
    "\n",
    "gt[user_lang_col + ['other user lang']] = gt[user_lang_col + ['other user lang']].fillna(0)#.astype(int)\n",
    "gt[lang_col + ['other lang']] = gt[lang_col + ['other lang']].fillna(0)#.astype(int)\n",
    "#gt[hashtag_col] = gt[hashtag_col].fillna(0).apply(lambda x: [str_bool(y) for y in x.values])\n",
    "#gt[hashtag_col] = gt[hashtag_col].astype(float)\n",
    "\n",
    "#for tweets with no hashtags , replace NaN by 0 in hashtags topics distribution \n",
    "gt[hashtag_col]=gt[hashtag_col].fillna(0)\n",
    "#for tweets with no images , replace NaN by 0 in images class probabilities\n",
    "gt[img_col] = gt[img_col].fillna(0)\n",
    "\n",
    "\n",
    "print(gt.shape)\n",
    "gt.head()\n"
   ]
  },
  {
   "cell_type": "code",
   "execution_count": 3,
   "metadata": {
    "scrolled": true
   },
   "outputs": [
    {
     "data": {
      "text/plain": [
       "Index(['hashtags', 'quoted_status', 'label', 'Hashtag topic 0',\n",
       "       'Hashtag topic 1', 'Hashtag topic 2', 'Hashtag topic 3',\n",
       "       'Hashtag topic 4', 'Hashtag topic 5', 'Hashtag topic 6',\n",
       "       'Hashtag topic 7', 'user_lang_fr', 'user_lang_en', 'user_lang_de',\n",
       "       'user_lang_en-gb', 'user_lang_ar', 'lang_fr', 'lang_en', 'lang_und',\n",
       "       'lang_es', 'lang_pt', 'other lang', 'other user lang', 'tweet_class',\n",
       "       't_topic_0', 't_topic_1', 't_topic_2', 't_topic_3', 't_topic_4',\n",
       "       't_topic_5', 't_topic_6', 'image_class', 'image_score', 'im_class_0',\n",
       "       'im_class_1', 'im_class_2', 'im_class_3', 'im_class_4', 'im_class_5',\n",
       "       'im_class_6', 'im_class_7'],\n",
       "      dtype='object')"
      ]
     },
     "execution_count": 3,
     "metadata": {},
     "output_type": "execute_result"
    }
   ],
   "source": [
    "gt.columns"
   ]
  },
  {
   "cell_type": "markdown",
   "metadata": {},
   "source": [
    "## Training test and validation set"
   ]
  },
  {
   "cell_type": "code",
   "execution_count": 4,
   "metadata": {},
   "outputs": [
    {
     "name": "stdout",
     "output_type": "stream",
     "text": [
      "[[0, 0], [0, 0]]\n"
     ]
    }
   ],
   "source": [
    "#Empty matrix for cross-validation results\n",
    "\n",
    "cross_validation_all = [[0,  0], [0, 0]]\n",
    "cross_validation_without_images = [[0,  0], [0, 0]]\n",
    "cross_validation_without_hashtags = [[0,  0], [0, 0]]\n",
    "cross_validation_without_topics = [[0,  0], [0, 0]]\n",
    "\n",
    "print (cross_validation_all)\n",
    "\n",
    "# init cross validation parameters\n",
    "#from sklearn.model_selection import KFold\n",
    "#kf = KFold(n_splits=10)\n",
    "#X = [1, 2 ,3 , 4]\n",
    "#a = kf.split(X)\n",
    "#b = list(a)\n",
    "#print(b)\n",
    "#print(b[1][0])\n",
    "#print(b[1][1])\n"
   ]
  },
  {
   "cell_type": "code",
   "execution_count": 5,
   "metadata": {},
   "outputs": [],
   "source": [
    "#Shuffle all\n",
    "gt = gt.sample(frac=1)"
   ]
  },
  {
   "cell_type": "code",
   "execution_count": 55,
   "metadata": {},
   "outputs": [],
   "source": [
    "#training, test and validation with the same percentage of images and hashtags present\n",
    "\n",
    "n_FOLD = 10\n",
    "i_FOLD = 9\n",
    "\n",
    "#with only HASHTAGS\n",
    "gt_hashtag=gt[~gt['hashtags'].isnull() & gt['image_class'].isnull()]\n",
    "#drop features that are str, or not to use for the training\n",
    "gt_hashtag=gt_hashtag.drop(['hashtags', 'image_score', 'image_class', 'tweet_class'], axis=1)\n",
    "#shuffle once\n",
    "#gt_hashtag = gt_hashtag.sample(frac=1)\n",
    "#--\n",
    "train_hashtag_1 = gt_hashtag.iloc[0:int(round((i_FOLD/n_FOLD)*gt_hashtag.shape[0]))]\n",
    "train_hashtag_2 = gt_hashtag.iloc[int(round(((1+i_FOLD)/n_FOLD)*gt_hashtag.shape[0])):-1]\n",
    "train_hashtag = pd.concat((train_hashtag_1, train_hashtag_2))\n",
    "test_hashtag = gt_hashtag.iloc[int(round((i_FOLD/n_FOLD)*gt_hashtag.shape[0])): int(round(((1+i_FOLD)/n_FOLD)*gt_hashtag.shape[0]))]\n",
    "\n",
    "#with only IMAGES\n",
    "gt_image=gt[~gt['image_class'].isnull() & gt['hashtags'].isnull()]\n",
    "#drop features that are str, or not to use for the training\n",
    "gt_image=gt_image.drop(['hashtags', 'image_score', 'image_class', 'tweet_class'], axis=1)\n",
    "#shuffle once\n",
    "#gt_image = gt_image.sample(frac=1)\n",
    "#--\n",
    "train_image_1 = gt_image.iloc[0:int(round((i_FOLD/n_FOLD)*gt_image.shape[0]))]\n",
    "train_image_2 = gt_image.iloc[int(round(((1+i_FOLD)/n_FOLD)*gt_image.shape[0])):-1]\n",
    "train_image = pd.concat((train_image_1, train_image_2))\n",
    "test_image = gt_image.iloc[int(round((i_FOLD/n_FOLD)*gt_image.shape[0])): int(round(((1+i_FOLD)/n_FOLD)*gt_image.shape[0]))]\n",
    "\n",
    "#with both IMAGES and HASHTAGS\n",
    "gt_both=gt[~gt['image_class'].isnull() & ~gt['hashtags'].isnull()]\n",
    "#drop features that are str, or not to use for the training\n",
    "gt_both=gt_both.drop(['hashtags', 'image_score', 'image_class', 'tweet_class'], axis=1)\n",
    "#shuffle once\n",
    "#gt_both= gt_both.sample(frac=1)\n",
    "#--\n",
    "train_both_1 = gt_both.iloc[0:int(round((i_FOLD/n_FOLD)*gt_both.shape[0]))]\n",
    "train_both_2 = gt_both.iloc[int(round(((1+i_FOLD)/n_FOLD)*gt_both.shape[0])):-1]\n",
    "train_both = pd.concat((train_both_1, train_both_2))\n",
    "test_both = gt_both.iloc[int(round((i_FOLD/n_FOLD)*gt_both.shape[0])): int(round(((1+i_FOLD)/n_FOLD)*gt_both.shape[0]))]\n",
    "\n",
    "\n",
    "#without IMAGES and HASHTAGS\n",
    "gt_without=gt[gt['image_class'].isnull() & gt['hashtags'].isnull()]\n",
    "#drop features that are str, or not to use for the training\n",
    "gt_without=gt_without.drop(['hashtags', 'image_score', 'image_class', 'tweet_class'], axis=1)\n",
    "#gt_without= gt_without.sample(frac=1)\n",
    "#--\n",
    "train_without_1 = gt_without.iloc[0:int(round((i_FOLD/n_FOLD)*gt_without.shape[0]))]\n",
    "train_without_2 = gt_without.iloc[int(round(((1+i_FOLD)/n_FOLD)*gt_without.shape[0])):-1]\n",
    "train_without = pd.concat((train_without_1, train_without_2))\n",
    "test_without = gt_without.iloc[int(round((i_FOLD/n_FOLD)*gt_without.shape[0])): int(round(((1+i_FOLD)/n_FOLD)*gt_without.shape[0]))]\n",
    "\n",
    "#compute train , validation and test set with the same proportion of hashtags and images\n",
    "train = pd.concat((train_hashtag, train_hashtag, train_image, train_both, train_without))\n",
    "test = pd.concat((test_hashtag, test_image, train_image, test_both, test_without))\n",
    "\n",
    "#val= val_hashtag.append(val_image).append(val_both).append(val_without)\n",
    "#test=test_hashtag.append(test_image).append(test_both).append(test_without)\n"
   ]
  },
  {
   "cell_type": "markdown",
   "metadata": {},
   "source": [
    "## Model with all features"
   ]
  },
  {
   "cell_type": "code",
   "execution_count": 56,
   "metadata": {},
   "outputs": [
    {
     "name": "stdout",
     "output_type": "stream",
     "text": [
      "0.6338000394399527\n",
      "Confusion matrix, without normalization\n",
      "[[1877  751]\n",
      " [1106 1337]]\n",
      "Normalized confusion matrix\n",
      "[[0.71 0.29]\n",
      " [0.45 0.55]]\n",
      "[[20246  5915]\n",
      " [12253 12288]]\n"
     ]
    },
    {
     "data": {
      "image/png": "[encoded data removed]",
      "text/plain": [
       "<Figure size 432x288 with 2 Axes>"
      ]
     },
     "metadata": {},
     "output_type": "display_data"
    },
    {
     "data": {
      "image/png": "[encoded data removed]",
      "text/plain": [
       "<Figure size 432x288 with 2 Axes>"
      ]
     },
     "metadata": {},
     "output_type": "display_data"
    }
   ],
   "source": [
    "#train and test MLP classifier\n",
    "mlp= MLPClassifier(activation ='relu', solver='adam', hidden_layer_sizes=(10,3),max_iter= 1000,shuffle=False, random_state=0,batch_size= 100 ) #alpha=0.0001 #batch size =200 , max_iter 200\n",
    "mlp.fit(train.drop('label',axis=1), train['label'])\n",
    "score = mlp.score(test.drop('label', axis =1),test['label'])\n",
    "print(score)\n",
    "\n",
    "\n",
    "y_true=test['label'].apply(lambda x : 'local' if x==1 else ( 'unlocal' if x==0  else np.NaN))\n",
    "y_pred= list(map( lambda x : 'local' if x==1 else ( 'unlocal' if x==0  else np.NaN),list(mlp.predict(test.drop('label', axis =1))) ))\n",
    "conf_mat=confusion_matrix(y_true, y_pred)\n",
    "\n",
    "classes_names=['local','unlocal']\n",
    "\n",
    "# Compute confusion matrix\n",
    "np.set_printoptions(precision=4)\n",
    "\n",
    "# Plot non-normalized confusion matrix\n",
    "plt.figure()\n",
    "\n",
    "plot_confusion_matrix(conf_mat,classes=classes_names,\n",
    "                      title='Confusion matrix, without normalization')\n",
    "\n",
    "# Plot normalized confusion matrix\n",
    "plt.figure()\n",
    "plot_confusion_matrix(conf_mat,classes=classes_names, normalize=True,\n",
    "                      title='Normalized confusion matrix')\n",
    "cross_validation_all = cross_validation_all + conf_mat\n",
    "print(cross_validation_all)\n",
    "plt.show()"
   ]
  },
  {
   "cell_type": "markdown",
   "metadata": {},
   "source": [
    "## Model without image features"
   ]
  },
  {
   "cell_type": "code",
   "execution_count": 57,
   "metadata": {},
   "outputs": [
    {
     "name": "stdout",
     "output_type": "stream",
     "text": [
      "0.6160520607375272\n",
      "(5071, 29)\n",
      "Confusion matrix, without normalization\n",
      "[[2035  593]\n",
      " [1354 1089]]\n",
      "Normalized confusion matrix\n",
      "[[0.77 0.23]\n",
      " [0.55 0.45]]\n"
     ]
    },
    {
     "data": {
      "image/png": "[encoded data removed]",
      "text/plain": [
       "<Figure size 432x288 with 2 Axes>"
      ]
     },
     "metadata": {},
     "output_type": "display_data"
    },
    {
     "data": {
      "image/png": "[encoded data removed]",
      "text/plain": [
       "<Figure size 432x288 with 2 Axes>"
      ]
     },
     "metadata": {},
     "output_type": "display_data"
    }
   ],
   "source": [
    "train_no_img= train.drop(img_col,axis=1)\n",
    "test_no_img= test.drop(img_col,axis=1)\n",
    "#val_no_img= val.drop(img_col,axis=1)\n",
    "\n",
    "#train and test MLP classifier\n",
    "mlp_no_img= MLPClassifier(activation ='relu', solver='adam', hidden_layer_sizes=(10,3),max_iter= 1000,shuffle=False, random_state=0,batch_size= 100 ) #alpha=0.0001 #batch size =200 , max_iter 200\n",
    "mlp_no_img.fit(train_no_img.drop('label',axis=1), train_no_img['label'])\n",
    "score_no_img = mlp_no_img.score(test_no_img.drop('label', axis =1),test_no_img['label'])\n",
    "print(score_no_img)\n",
    "\n",
    "print(test_no_img.shape)\n",
    "y_true_no_img=test['label'].apply(lambda x : 'local' if x==1 else ( 'unlocal' if x==0  else np.NaN))\n",
    "y_pred_no_img= list(map( lambda x : 'local' if x==1 else ( 'unlocal' if x==0  else np.NaN),list(mlp_no_img.predict(test_no_img.drop('label', axis =1))) ))\n",
    "conf_mat_no_img=confusion_matrix(y_true_no_img, y_pred_no_img)\n",
    "\n",
    "\n",
    "# Plot non-normalized confusion matrix\n",
    "plt.figure()\n",
    "\n",
    "plot_confusion_matrix(conf_mat_no_img,classes=classes_names,\n",
    "                      title='Confusion matrix, without normalization')\n",
    "\n",
    "cross_validation_without_images = cross_validation_without_images + conf_mat_no_img\n",
    "\n",
    "# Plot normalized confusion matrix\n",
    "plt.figure()\n",
    "plot_confusion_matrix(conf_mat_no_img,classes=classes_names, normalize=True,\n",
    "                      title='Normalized confusion matrix')\n",
    "plt.show()\n",
    "\n"
   ]
  },
  {
   "cell_type": "markdown",
   "metadata": {},
   "source": [
    "## Model without hashtags features"
   ]
  },
  {
   "cell_type": "code",
   "execution_count": 58,
   "metadata": {},
   "outputs": [
    {
     "name": "stdout",
     "output_type": "stream",
     "text": [
      "0.61802405837113\n",
      "(5071, 29)\n",
      "Confusion matrix, without normalization\n",
      "[[1920  708]\n",
      " [1229 1214]]\n",
      "Normalized confusion matrix\n",
      "[[0.73 0.27]\n",
      " [0.5  0.5 ]]\n"
     ]
    },
    {
     "data": {
      "image/png": "[encoded data removed]",
      "text/plain": [
       "<Figure size 432x288 with 2 Axes>"
      ]
     },
     "metadata": {},
     "output_type": "display_data"
    },
    {
     "data": {
      "image/png": "[encoded data removed]",
      "text/plain": [
       "<Figure size 432x288 with 2 Axes>"
      ]
     },
     "metadata": {},
     "output_type": "display_data"
    }
   ],
   "source": [
    "train_no_hashtag= train.drop(hashtag_col,axis=1)\n",
    "test_no_hashtag= test.drop(hashtag_col,axis=1)\n",
    "#val_no_hashtag= val.drop(hashtag_col,axis=1)\n",
    "\n",
    "#train and test MLP classifier\n",
    "mlp_no_hashtag= MLPClassifier(activation ='relu', solver='adam', hidden_layer_sizes=(10,3),max_iter= 1000,shuffle=False, random_state=0,batch_size= 100 ) #alpha=0.0001 #batch size =200 , max_iter 200\n",
    "mlp_no_hashtag.fit(train_no_hashtag.drop('label',axis=1), train_no_hashtag['label'])\n",
    "score_no_hashtag = mlp_no_hashtag.score(test_no_hashtag.drop('label', axis =1),test_no_hashtag['label'])\n",
    "print(score_no_hashtag)\n",
    "\n",
    "print(test_no_hashtag.shape)\n",
    "y_true_no_hashtag=test['label'].apply(lambda x : 'local' if x==1 else ( 'unlocal' if x==0  else np.NaN))\n",
    "y_pred_no_hashtag= list(map( lambda x : 'local' if x==1 else ( 'unlocal' if x==0  else np.NaN),list(mlp_no_hashtag.predict(test_no_hashtag.drop('label', axis =1))) ))\n",
    "conf_mat_no_hashtag=confusion_matrix(y_true_no_hashtag, y_pred_no_hashtag)\n",
    "\n",
    "\n",
    "# Plot non-normalized confusion matrix\n",
    "plt.figure()\n",
    "\n",
    "plot_confusion_matrix(conf_mat_no_hashtag,classes=classes_names,\n",
    "                      title='Confusion matrix, without normalization')\n",
    "\n",
    "# Plot normalized confusion matrix\n",
    "plt.figure()\n",
    "plot_confusion_matrix(conf_mat_no_hashtag,classes=classes_names, normalize=True,\n",
    "                      title='Normalized confusion matrix')\n",
    "\n",
    "cross_validation_without_hashtags = cross_validation_without_hashtags + conf_mat_no_hashtag\n",
    "plt.show()"
   ]
  },
  {
   "cell_type": "markdown",
   "metadata": {},
   "source": [
    "## Model without text topics features"
   ]
  },
  {
   "cell_type": "code",
   "execution_count": 59,
   "metadata": {},
   "outputs": [
    {
     "name": "stdout",
     "output_type": "stream",
     "text": [
      "0.6357720370735556\n",
      "(5071, 30)\n",
      "Confusion matrix, without normalization\n",
      "[[1923  705]\n",
      " [1142 1301]]\n",
      "Normalized confusion matrix\n",
      "[[0.73 0.27]\n",
      " [0.47 0.53]]\n"
     ]
    },
    {
     "data": {
      "image/png": "[encoded data removed]",
      "text/plain": [
       "<Figure size 432x288 with 2 Axes>"
      ]
     },
     "metadata": {},
     "output_type": "display_data"
    },
    {
     "data": {
      "image/png": "[encoded data removed]",
      "text/plain": [
       "<Figure size 432x288 with 2 Axes>"
      ]
     },
     "metadata": {},
     "output_type": "display_data"
    }
   ],
   "source": [
    "train_no_text_topic= train.drop(topic_col,axis=1)\n",
    "test_no_text_topic= test.drop(topic_col,axis=1)\n",
    "#val_no_text_topic= val.drop(topic_col,axis=1)\n",
    "\n",
    "#train and test MLP classifier\n",
    "mlp_no_text_topic= MLPClassifier(activation ='relu', solver='adam', hidden_layer_sizes=(10,3),max_iter= 1000,shuffle=False, random_state=0,batch_size= 100 ) #alpha=0.0001 #batch size =200 , max_iter 200\n",
    "mlp_no_text_topic.fit(train_no_text_topic.drop('label',axis=1), train_no_text_topic['label'])\n",
    "score_no_text_topic = mlp_no_text_topic.score(test_no_text_topic.drop('label', axis =1),test_no_text_topic['label'])\n",
    "print(score_no_text_topic)\n",
    "\n",
    "print(test_no_text_topic.shape)\n",
    "y_true_no_text_topic=test['label'].apply(lambda x : 'local' if x==1 else ( 'unlocal' if x==0  else np.NaN))\n",
    "y_pred_no_text_topic= list(map( lambda x : 'local' if x==1 else ( 'unlocal' if x==0  else np.NaN),list(mlp_no_text_topic.predict(test_no_text_topic.drop('label', axis =1))) ))\n",
    "conf_mat_no_text_topic=confusion_matrix(y_true_no_text_topic, y_pred_no_text_topic)\n",
    "\n",
    "\n",
    "# Plot non-normalized confusion matrix\n",
    "plt.figure()\n",
    "\n",
    "plot_confusion_matrix(conf_mat_no_text_topic,classes=classes_names,\n",
    "                      title='Confusion matrix, without normalization')\n",
    "\n",
    "# Plot normalized confusion matrix\n",
    "plt.figure()\n",
    "plot_confusion_matrix(conf_mat_no_text_topic,classes=classes_names, normalize=True,\n",
    "                      title='Normalized confusion matrix')\n",
    "cross_validation_without_topics = cross_validation_without_topics + conf_mat_no_text_topic\n"
   ]
  },
  {
   "cell_type": "code",
   "execution_count": 60,
   "metadata": {},
   "outputs": [
    {
     "name": "stdout",
     "output_type": "stream",
     "text": [
      "Normalized confusion matrix\n",
      "[[0.77 0.23]\n",
      " [0.5  0.5 ]]\n",
      "Normalized confusion matrix\n",
      "[[0.76 0.24]\n",
      " [0.51 0.49]]\n",
      "Normalized confusion matrix\n",
      "[[0.79 0.21]\n",
      " [0.55 0.45]]\n",
      "Normalized confusion matrix\n",
      "[[0.77 0.23]\n",
      " [0.49 0.51]]\n"
     ]
    },
    {
     "data": {
      "image/png": "[encoded data removed]",
      "text/plain": [
       "<Figure size 432x288 with 2 Axes>"
      ]
     },
     "metadata": {},
     "output_type": "display_data"
    },
    {
     "data": {
      "image/png": "[encoded data removed]",
      "text/plain": [
       "<Figure size 432x288 with 2 Axes>"
      ]
     },
     "metadata": {},
     "output_type": "display_data"
    },
    {
     "data": {
      "image/png": "[encoded data removed]",
      "text/plain": [
       "<Figure size 432x288 with 2 Axes>"
      ]
     },
     "metadata": {},
     "output_type": "display_data"
    },
    {
     "data": {
      "image/png": "[encoded data removed]",
      "text/plain": [
       "<Figure size 432x288 with 2 Axes>"
      ]
     },
     "metadata": {},
     "output_type": "display_data"
    }
   ],
   "source": [
    "plt.figure()\n",
    "plot_confusion_matrix(cross_validation_all,classes=classes_names, normalize=True,\n",
    "                      title='Normalized confusion matrix -all')\n",
    "\n",
    "plt.figure()\n",
    "plot_confusion_matrix(cross_validation_without_images,classes=classes_names, normalize=True,\n",
    "                      title='Normalized confusion matrix -without images')\n",
    "\n",
    "plt.figure()\n",
    "plot_confusion_matrix(cross_validation_without_hashtags,classes=classes_names, normalize=True,\n",
    "                      title='Normalized confusion matrix -without hashtags')\n",
    "\n",
    "plt.figure()\n",
    "plot_confusion_matrix(cross_validation_without_topics,classes=classes_names, normalize=True,\n",
    "                      title='Normalized confusion matrix -without text classification')"
   ]
  },
  {
   "cell_type": "markdown",
   "metadata": {},
   "source": [
    "# OLD CODE (takes part of the groundtruth each time)"
   ]
  },
  {
   "cell_type": "markdown",
   "metadata": {},
   "source": [
    "## Model with tweet lang"
   ]
  },
  {
   "cell_type": "code",
   "execution_count": 87,
   "metadata": {},
   "outputs": [
    {
     "name": "stdout",
     "output_type": "stream",
     "text": [
      "(34511, 9)\n",
      "0.6264487714418173\n"
     ]
    }
   ],
   "source": [
    "gt_tweet_lang=gt\n",
    "gt_tweet_lang=gt_tweet_lang.drop(hashtag_col+ ['hashtags'] + img_col + topic_col + user_lang_col, axis= 1)\n",
    "gt_tweet_lang.head()\n",
    "print(gt_tweet_lang.shape)\n",
    "\n",
    "#gt_tweet_lang = gt_tweet_lang.sample(frac=1)\n",
    "#train_tweet_lang=gt_tweet_lang.iloc[0:int(round(0.5*gt_tweet_lang.shape[0]))]\n",
    "#val_tweet_lang=gt_tweet_lang.iloc[int(round(0.5*gt_tweet_lang.shape[0])): int(round(0.75*gt_tweet_lang.shape[0]))]\n",
    "#test_tweet_lang=gt_tweet_lang.iloc[int(round(0.75*gt_tweet_lang.shape[0])): int(gt_tweet_lang.shape[0])]\n",
    "\n",
    "mlp_tweet_lang= MLPClassifier(activation ='relu', solver='adam', hidden_layer_sizes=(10,3),max_iter= 1000,shuffle=False, random_state=0,batch_size= 100) #alpha=0.0001 # , \n",
    "mlp_tweet_lang.fit(train_tweet_lang.drop('label',axis=1), train_tweet_lang['label'])\n",
    "score_tweet_lang= mlp_tweet_lang.score(test_tweet_lang.drop('label', axis =1),test_tweet_lang['label'])\n",
    "print(score_tweet_lang)"
   ]
  },
  {
   "cell_type": "code",
   "execution_count": 68,
   "metadata": {},
   "outputs": [
    {
     "data": {
      "text/plain": [
       "Index(['quoted_status', 'label', 'lang_fr', 'lang_en', 'lang_und', 'lang_es',\n",
       "       'lang_pt', 'other lang', 'other user lang'],\n",
       "      dtype='object')"
      ]
     },
     "execution_count": 68,
     "metadata": {},
     "output_type": "execute_result"
    }
   ],
   "source": [
    "gt_tweet_lang.columns"
   ]
  },
  {
   "cell_type": "markdown",
   "metadata": {},
   "source": [
    "## Base model with text lang and user lang (for now)"
   ]
  },
  {
   "cell_type": "code",
   "execution_count": 29,
   "metadata": {
    "scrolled": true
   },
   "outputs": [
    {
     "name": "stdout",
     "output_type": "stream",
     "text": [
      "(26126, 14)\n",
      "0.6344151867728107\n"
     ]
    }
   ],
   "source": [
    "gt_20=gt[gt['hashtags'].isnull()]\n",
    "gt_20=gt_20.drop(hashtag_col+ ['hashtags'] + img_col + topic_col, axis= 1)\n",
    "gt_20.head()\n",
    "print(gt_20.shape)\n",
    "\n",
    "gt_20 = gt_20.sample(frac=1)\n",
    "train_20=gt_20.iloc[0:int(round(0.5*gt_20.shape[0]))]\n",
    "val_20=gt_20.iloc[ int(round(0.5*gt_20.shape[0])): int(round(0.75*gt_20.shape[0]))]\n",
    "test_20=gt_20.iloc[int(round(0.75*gt_20.shape[0])): int(gt_20.shape[0])]\n",
    "\n",
    "mlp_20= MLPClassifier(activation ='relu', solver='adam') #alpha=0.0001 #batch size =200 , max_iter 200\n",
    "mlp_20.fit(train_20.drop('label',axis=1), train_20['label'])\n",
    "score = mlp_20.score(test_20.drop('label', axis =1),test_20['label'])\n",
    "print(score)"
   ]
  },
  {
   "cell_type": "markdown",
   "metadata": {},
   "source": [
    "## Model with hashtags"
   ]
  },
  {
   "cell_type": "code",
   "execution_count": 93,
   "metadata": {},
   "outputs": [
    {
     "name": "stdout",
     "output_type": "stream",
     "text": [
      "(8385, 22)\n",
      "0.6765267175572519\n"
     ]
    }
   ],
   "source": [
    "gt_hashtag=gt[~gt['hashtags'].isnull()]\n",
    "gt_hashtag=gt_hashtag.drop(['hashtags'] + img_col + topic_col, axis= 1)\n",
    "print(gt_hashtag.shape)\n",
    "gt_hashtag.head()\n",
    "\n",
    "gt_hashtag = gt_hashtag.sample(frac=1)\n",
    "train_hashtag=gt_hashtag.iloc[0:int(round(0.5*gt_hashtag.shape[0]))]\n",
    "val_hashtag=gt_hashtag.iloc[ int(round(0.5*gt_hashtag.shape[0])): int(round(0.75*gt_hashtag.shape[0]))]\n",
    "test_hashtag=gt_hashtag.iloc[int(round(0.75*gt_hashtag.shape[0])): int(gt_hashtag.shape[0])]\n",
    "\n",
    "mlp_hashtag= MLPClassifier(activation ='relu', solver='adam') #alpha=0.0001 #batch size =200 , max_iter 200\n",
    "mlp_hashtag.fit(train_hashtag.drop('label',axis=1).fillna(0), train_hashtag['label'])\n",
    "score_hashtag = mlp_hashtag.score(test_hashtag.drop('label', axis =1).fillna(0),test_hashtag['label'])\n",
    "print(score_hashtag)"
   ]
  },
  {
   "cell_type": "markdown",
   "metadata": {},
   "source": [
    "## Model with images"
   ]
  },
  {
   "cell_type": "code",
   "execution_count": 31,
   "metadata": {},
   "outputs": [
    {
     "name": "stdout",
     "output_type": "stream",
     "text": [
      "(3335, 22)\n"
     ]
    },
    {
     "data": {
      "text/html": [
       "<div>\n",
       "<style>\n",
       "    .dataframe thead tr:only-child th {\n",
       "        text-align: right;\n",
       "    }\n",
       "\n",
       "    .dataframe thead th {\n",
       "        text-align: left;\n",
       "    }\n",
       "\n",
       "    .dataframe tbody tr th {\n",
       "        vertical-align: top;\n",
       "    }\n",
       "</style>\n",
       "<table border=\"1\" class=\"dataframe\">\n",
       "  <thead>\n",
       "    <tr style=\"text-align: right;\">\n",
       "      <th></th>\n",
       "      <th>quoted_status</th>\n",
       "      <th>label</th>\n",
       "      <th>user_lang_fr</th>\n",
       "      <th>user_lang_en</th>\n",
       "      <th>user_lang_de</th>\n",
       "      <th>user_lang_en-gb</th>\n",
       "      <th>user_lang_ar</th>\n",
       "      <th>lang_fr</th>\n",
       "      <th>lang_en</th>\n",
       "      <th>lang_und</th>\n",
       "      <th>...</th>\n",
       "      <th>other lang</th>\n",
       "      <th>other user lang</th>\n",
       "      <th>im_class_0</th>\n",
       "      <th>im_class_1</th>\n",
       "      <th>im_class_2</th>\n",
       "      <th>im_class_3</th>\n",
       "      <th>im_class_4</th>\n",
       "      <th>im_class_5</th>\n",
       "      <th>im_class_6</th>\n",
       "      <th>im_class_7</th>\n",
       "    </tr>\n",
       "    <tr>\n",
       "      <th>tweet_id</th>\n",
       "      <th></th>\n",
       "      <th></th>\n",
       "      <th></th>\n",
       "      <th></th>\n",
       "      <th></th>\n",
       "      <th></th>\n",
       "      <th></th>\n",
       "      <th></th>\n",
       "      <th></th>\n",
       "      <th></th>\n",
       "      <th></th>\n",
       "      <th></th>\n",
       "      <th></th>\n",
       "      <th></th>\n",
       "      <th></th>\n",
       "      <th></th>\n",
       "      <th></th>\n",
       "      <th></th>\n",
       "      <th></th>\n",
       "      <th></th>\n",
       "      <th></th>\n",
       "    </tr>\n",
       "  </thead>\n",
       "  <tbody>\n",
       "    <tr>\n",
       "      <th>55ecd6310a177679d904ff7d</th>\n",
       "      <td>0</td>\n",
       "      <td>1</td>\n",
       "      <td>1</td>\n",
       "      <td>0</td>\n",
       "      <td>0</td>\n",
       "      <td>0</td>\n",
       "      <td>0</td>\n",
       "      <td>1</td>\n",
       "      <td>0</td>\n",
       "      <td>0</td>\n",
       "      <td>...</td>\n",
       "      <td>0</td>\n",
       "      <td>0</td>\n",
       "      <td>0.000000</td>\n",
       "      <td>0.0</td>\n",
       "      <td>0.0</td>\n",
       "      <td>0.755072</td>\n",
       "      <td>0.0</td>\n",
       "      <td>0.0</td>\n",
       "      <td>0.0</td>\n",
       "      <td>0.000000</td>\n",
       "    </tr>\n",
       "    <tr>\n",
       "      <th>560ea35e0a17764c6ef1f147</th>\n",
       "      <td>0</td>\n",
       "      <td>1</td>\n",
       "      <td>1</td>\n",
       "      <td>0</td>\n",
       "      <td>0</td>\n",
       "      <td>0</td>\n",
       "      <td>0</td>\n",
       "      <td>1</td>\n",
       "      <td>0</td>\n",
       "      <td>0</td>\n",
       "      <td>...</td>\n",
       "      <td>0</td>\n",
       "      <td>0</td>\n",
       "      <td>0.000000</td>\n",
       "      <td>0.0</td>\n",
       "      <td>0.0</td>\n",
       "      <td>0.000000</td>\n",
       "      <td>0.0</td>\n",
       "      <td>0.0</td>\n",
       "      <td>0.0</td>\n",
       "      <td>0.939550</td>\n",
       "    </tr>\n",
       "    <tr>\n",
       "      <th>5652486f0a17761347b870d1</th>\n",
       "      <td>0</td>\n",
       "      <td>1</td>\n",
       "      <td>0</td>\n",
       "      <td>1</td>\n",
       "      <td>0</td>\n",
       "      <td>0</td>\n",
       "      <td>0</td>\n",
       "      <td>0</td>\n",
       "      <td>0</td>\n",
       "      <td>1</td>\n",
       "      <td>...</td>\n",
       "      <td>0</td>\n",
       "      <td>0</td>\n",
       "      <td>0.000000</td>\n",
       "      <td>0.0</td>\n",
       "      <td>0.0</td>\n",
       "      <td>0.000000</td>\n",
       "      <td>0.0</td>\n",
       "      <td>0.0</td>\n",
       "      <td>0.0</td>\n",
       "      <td>0.916681</td>\n",
       "    </tr>\n",
       "    <tr>\n",
       "      <th>5654302a0a17761347b8b4a8</th>\n",
       "      <td>0</td>\n",
       "      <td>1</td>\n",
       "      <td>1</td>\n",
       "      <td>0</td>\n",
       "      <td>0</td>\n",
       "      <td>0</td>\n",
       "      <td>0</td>\n",
       "      <td>1</td>\n",
       "      <td>0</td>\n",
       "      <td>0</td>\n",
       "      <td>...</td>\n",
       "      <td>0</td>\n",
       "      <td>0</td>\n",
       "      <td>0.000000</td>\n",
       "      <td>0.0</td>\n",
       "      <td>0.0</td>\n",
       "      <td>0.000000</td>\n",
       "      <td>0.0</td>\n",
       "      <td>0.0</td>\n",
       "      <td>0.0</td>\n",
       "      <td>0.078300</td>\n",
       "    </tr>\n",
       "    <tr>\n",
       "      <th>56a38d8b0a1776437764bb49</th>\n",
       "      <td>0</td>\n",
       "      <td>1</td>\n",
       "      <td>1</td>\n",
       "      <td>0</td>\n",
       "      <td>0</td>\n",
       "      <td>0</td>\n",
       "      <td>0</td>\n",
       "      <td>0</td>\n",
       "      <td>0</td>\n",
       "      <td>0</td>\n",
       "      <td>...</td>\n",
       "      <td>1</td>\n",
       "      <td>0</td>\n",
       "      <td>0.386316</td>\n",
       "      <td>0.0</td>\n",
       "      <td>0.0</td>\n",
       "      <td>0.000000</td>\n",
       "      <td>0.0</td>\n",
       "      <td>0.0</td>\n",
       "      <td>0.0</td>\n",
       "      <td>0.000000</td>\n",
       "    </tr>\n",
       "  </tbody>\n",
       "</table>\n",
       "<p>5 rows × 22 columns</p>\n",
       "</div>"
      ],
      "text/plain": [
       "                          quoted_status  label  user_lang_fr  user_lang_en  \\\n",
       "tweet_id                                                                     \n",
       "55ecd6310a177679d904ff7d              0      1             1             0   \n",
       "560ea35e0a17764c6ef1f147              0      1             1             0   \n",
       "5652486f0a17761347b870d1              0      1             0             1   \n",
       "5654302a0a17761347b8b4a8              0      1             1             0   \n",
       "56a38d8b0a1776437764bb49              0      1             1             0   \n",
       "\n",
       "                          user_lang_de  user_lang_en-gb  user_lang_ar  \\\n",
       "tweet_id                                                                \n",
       "55ecd6310a177679d904ff7d             0                0             0   \n",
       "560ea35e0a17764c6ef1f147             0                0             0   \n",
       "5652486f0a17761347b870d1             0                0             0   \n",
       "5654302a0a17761347b8b4a8             0                0             0   \n",
       "56a38d8b0a1776437764bb49             0                0             0   \n",
       "\n",
       "                          lang_fr  lang_en  lang_und     ...      other lang  \\\n",
       "tweet_id                                                 ...                   \n",
       "55ecd6310a177679d904ff7d        1        0         0     ...               0   \n",
       "560ea35e0a17764c6ef1f147        1        0         0     ...               0   \n",
       "5652486f0a17761347b870d1        0        0         1     ...               0   \n",
       "5654302a0a17761347b8b4a8        1        0         0     ...               0   \n",
       "56a38d8b0a1776437764bb49        0        0         0     ...               1   \n",
       "\n",
       "                          other user lang  im_class_0  im_class_1  im_class_2  \\\n",
       "tweet_id                                                                        \n",
       "55ecd6310a177679d904ff7d                0    0.000000         0.0         0.0   \n",
       "560ea35e0a17764c6ef1f147                0    0.000000         0.0         0.0   \n",
       "5652486f0a17761347b870d1                0    0.000000         0.0         0.0   \n",
       "5654302a0a17761347b8b4a8                0    0.000000         0.0         0.0   \n",
       "56a38d8b0a1776437764bb49                0    0.386316         0.0         0.0   \n",
       "\n",
       "                          im_class_3  im_class_4  im_class_5  im_class_6  \\\n",
       "tweet_id                                                                   \n",
       "55ecd6310a177679d904ff7d    0.755072         0.0         0.0         0.0   \n",
       "560ea35e0a17764c6ef1f147    0.000000         0.0         0.0         0.0   \n",
       "5652486f0a17761347b870d1    0.000000         0.0         0.0         0.0   \n",
       "5654302a0a17761347b8b4a8    0.000000         0.0         0.0         0.0   \n",
       "56a38d8b0a1776437764bb49    0.000000         0.0         0.0         0.0   \n",
       "\n",
       "                          im_class_7  \n",
       "tweet_id                              \n",
       "55ecd6310a177679d904ff7d    0.000000  \n",
       "560ea35e0a17764c6ef1f147    0.939550  \n",
       "5652486f0a17761347b870d1    0.916681  \n",
       "5654302a0a17761347b8b4a8    0.078300  \n",
       "56a38d8b0a1776437764bb49    0.000000  \n",
       "\n",
       "[5 rows x 22 columns]"
      ]
     },
     "execution_count": 31,
     "metadata": {},
     "output_type": "execute_result"
    }
   ],
   "source": [
    "gt_image=gt[~gt['image_class'].isnull()]\n",
    "gt_image=gt_image.drop(['hashtags'] + hashtag_col + topic_col + ['image_class', 'image_score'], axis= 1)\n",
    "print(gt_image.shape)\n",
    "gt_image.head()"
   ]
  },
  {
   "cell_type": "code",
   "execution_count": 32,
   "metadata": {},
   "outputs": [
    {
     "name": "stdout",
     "output_type": "stream",
     "text": [
      "0.5827338129496403\n"
     ]
    }
   ],
   "source": [
    "gt_image = gt_image.sample(frac=1)\n",
    "train_image=gt_image.iloc[0:int(round(0.5*gt_image.shape[0]))]\n",
    "val_image=gt_image.iloc[ int(round(0.5*gt_image.shape[0])): int(round(0.75*gt_image.shape[0]))]\n",
    "test_image=gt_image.iloc[int(round(0.75*gt_image.shape[0])): int(gt_image.shape[0])]\n",
    "\n",
    "mlp_image= MLPClassifier(activation ='relu', solver='adam') #alpha=0.0001 #batch size =200 , max_iter 200\n",
    "mlp_image.fit(train_image.drop('label',axis=1).fillna(0), train_image['label'].fillna(0).astype(int))\n",
    "score_image = mlp_image.score(test_image.drop('label', axis =1).fillna(0),test_image['label'])\n",
    "print(score_image)"
   ]
  },
  {
   "cell_type": "markdown",
   "metadata": {},
   "source": [
    "## Model with text topics"
   ]
  },
  {
   "cell_type": "code",
   "execution_count": 33,
   "metadata": {},
   "outputs": [
    {
     "name": "stdout",
     "output_type": "stream",
     "text": [
      "(34511, 21)\n"
     ]
    },
    {
     "data": {
      "text/html": [
       "<div>\n",
       "<style>\n",
       "    .dataframe thead tr:only-child th {\n",
       "        text-align: right;\n",
       "    }\n",
       "\n",
       "    .dataframe thead th {\n",
       "        text-align: left;\n",
       "    }\n",
       "\n",
       "    .dataframe tbody tr th {\n",
       "        vertical-align: top;\n",
       "    }\n",
       "</style>\n",
       "<table border=\"1\" class=\"dataframe\">\n",
       "  <thead>\n",
       "    <tr style=\"text-align: right;\">\n",
       "      <th></th>\n",
       "      <th>quoted_status</th>\n",
       "      <th>label</th>\n",
       "      <th>user_lang_fr</th>\n",
       "      <th>user_lang_en</th>\n",
       "      <th>user_lang_de</th>\n",
       "      <th>user_lang_en-gb</th>\n",
       "      <th>user_lang_ar</th>\n",
       "      <th>lang_fr</th>\n",
       "      <th>lang_en</th>\n",
       "      <th>lang_und</th>\n",
       "      <th>...</th>\n",
       "      <th>lang_pt</th>\n",
       "      <th>other lang</th>\n",
       "      <th>other user lang</th>\n",
       "      <th>t_topic_0</th>\n",
       "      <th>t_topic_1</th>\n",
       "      <th>t_topic_2</th>\n",
       "      <th>t_topic_3</th>\n",
       "      <th>t_topic_4</th>\n",
       "      <th>t_topic_5</th>\n",
       "      <th>t_topic_6</th>\n",
       "    </tr>\n",
       "    <tr>\n",
       "      <th>tweet_id</th>\n",
       "      <th></th>\n",
       "      <th></th>\n",
       "      <th></th>\n",
       "      <th></th>\n",
       "      <th></th>\n",
       "      <th></th>\n",
       "      <th></th>\n",
       "      <th></th>\n",
       "      <th></th>\n",
       "      <th></th>\n",
       "      <th></th>\n",
       "      <th></th>\n",
       "      <th></th>\n",
       "      <th></th>\n",
       "      <th></th>\n",
       "      <th></th>\n",
       "      <th></th>\n",
       "      <th></th>\n",
       "      <th></th>\n",
       "      <th></th>\n",
       "      <th></th>\n",
       "    </tr>\n",
       "  </thead>\n",
       "  <tbody>\n",
       "    <tr>\n",
       "      <th>55c272820a1776527f63ad53</th>\n",
       "      <td>0</td>\n",
       "      <td>1</td>\n",
       "      <td>1</td>\n",
       "      <td>0</td>\n",
       "      <td>0</td>\n",
       "      <td>0</td>\n",
       "      <td>0</td>\n",
       "      <td>1</td>\n",
       "      <td>0</td>\n",
       "      <td>0</td>\n",
       "      <td>...</td>\n",
       "      <td>0</td>\n",
       "      <td>0</td>\n",
       "      <td>0</td>\n",
       "      <td>0.0</td>\n",
       "      <td>0.0</td>\n",
       "      <td>1.0</td>\n",
       "      <td>0.0</td>\n",
       "      <td>0.0</td>\n",
       "      <td>0.0</td>\n",
       "      <td>0.0</td>\n",
       "    </tr>\n",
       "    <tr>\n",
       "      <th>55c3bfea0a1776527f63df5b</th>\n",
       "      <td>0</td>\n",
       "      <td>1</td>\n",
       "      <td>1</td>\n",
       "      <td>0</td>\n",
       "      <td>0</td>\n",
       "      <td>0</td>\n",
       "      <td>0</td>\n",
       "      <td>1</td>\n",
       "      <td>0</td>\n",
       "      <td>0</td>\n",
       "      <td>...</td>\n",
       "      <td>0</td>\n",
       "      <td>0</td>\n",
       "      <td>0</td>\n",
       "      <td>1.0</td>\n",
       "      <td>0.0</td>\n",
       "      <td>0.0</td>\n",
       "      <td>0.0</td>\n",
       "      <td>0.0</td>\n",
       "      <td>0.0</td>\n",
       "      <td>0.0</td>\n",
       "    </tr>\n",
       "    <tr>\n",
       "      <th>55c5cf6f0a1776527f641ef3</th>\n",
       "      <td>0</td>\n",
       "      <td>1</td>\n",
       "      <td>1</td>\n",
       "      <td>0</td>\n",
       "      <td>0</td>\n",
       "      <td>0</td>\n",
       "      <td>0</td>\n",
       "      <td>1</td>\n",
       "      <td>0</td>\n",
       "      <td>0</td>\n",
       "      <td>...</td>\n",
       "      <td>0</td>\n",
       "      <td>0</td>\n",
       "      <td>0</td>\n",
       "      <td>1.0</td>\n",
       "      <td>0.0</td>\n",
       "      <td>0.0</td>\n",
       "      <td>0.0</td>\n",
       "      <td>0.0</td>\n",
       "      <td>0.0</td>\n",
       "      <td>0.0</td>\n",
       "    </tr>\n",
       "    <tr>\n",
       "      <th>55c63c020a1776527f6430bd</th>\n",
       "      <td>0</td>\n",
       "      <td>1</td>\n",
       "      <td>1</td>\n",
       "      <td>0</td>\n",
       "      <td>0</td>\n",
       "      <td>0</td>\n",
       "      <td>0</td>\n",
       "      <td>1</td>\n",
       "      <td>0</td>\n",
       "      <td>0</td>\n",
       "      <td>...</td>\n",
       "      <td>0</td>\n",
       "      <td>0</td>\n",
       "      <td>0</td>\n",
       "      <td>0.0</td>\n",
       "      <td>0.0</td>\n",
       "      <td>1.0</td>\n",
       "      <td>0.0</td>\n",
       "      <td>0.0</td>\n",
       "      <td>0.0</td>\n",
       "      <td>0.0</td>\n",
       "    </tr>\n",
       "    <tr>\n",
       "      <th>55c694b10a1776527f643f13</th>\n",
       "      <td>0</td>\n",
       "      <td>1</td>\n",
       "      <td>0</td>\n",
       "      <td>0</td>\n",
       "      <td>0</td>\n",
       "      <td>0</td>\n",
       "      <td>1</td>\n",
       "      <td>0</td>\n",
       "      <td>0</td>\n",
       "      <td>0</td>\n",
       "      <td>...</td>\n",
       "      <td>0</td>\n",
       "      <td>1</td>\n",
       "      <td>0</td>\n",
       "      <td>0.0</td>\n",
       "      <td>0.0</td>\n",
       "      <td>1.0</td>\n",
       "      <td>0.0</td>\n",
       "      <td>0.0</td>\n",
       "      <td>0.0</td>\n",
       "      <td>0.0</td>\n",
       "    </tr>\n",
       "  </tbody>\n",
       "</table>\n",
       "<p>5 rows × 21 columns</p>\n",
       "</div>"
      ],
      "text/plain": [
       "                          quoted_status  label  user_lang_fr  user_lang_en  \\\n",
       "tweet_id                                                                     \n",
       "55c272820a1776527f63ad53              0      1             1             0   \n",
       "55c3bfea0a1776527f63df5b              0      1             1             0   \n",
       "55c5cf6f0a1776527f641ef3              0      1             1             0   \n",
       "55c63c020a1776527f6430bd              0      1             1             0   \n",
       "55c694b10a1776527f643f13              0      1             0             0   \n",
       "\n",
       "                          user_lang_de  user_lang_en-gb  user_lang_ar  \\\n",
       "tweet_id                                                                \n",
       "55c272820a1776527f63ad53             0                0             0   \n",
       "55c3bfea0a1776527f63df5b             0                0             0   \n",
       "55c5cf6f0a1776527f641ef3             0                0             0   \n",
       "55c63c020a1776527f6430bd             0                0             0   \n",
       "55c694b10a1776527f643f13             0                0             1   \n",
       "\n",
       "                          lang_fr  lang_en  lang_und    ...      lang_pt  \\\n",
       "tweet_id                                                ...                \n",
       "55c272820a1776527f63ad53        1        0         0    ...            0   \n",
       "55c3bfea0a1776527f63df5b        1        0         0    ...            0   \n",
       "55c5cf6f0a1776527f641ef3        1        0         0    ...            0   \n",
       "55c63c020a1776527f6430bd        1        0         0    ...            0   \n",
       "55c694b10a1776527f643f13        0        0         0    ...            0   \n",
       "\n",
       "                          other lang  other user lang  t_topic_0  t_topic_1  \\\n",
       "tweet_id                                                                      \n",
       "55c272820a1776527f63ad53           0                0        0.0        0.0   \n",
       "55c3bfea0a1776527f63df5b           0                0        1.0        0.0   \n",
       "55c5cf6f0a1776527f641ef3           0                0        1.0        0.0   \n",
       "55c63c020a1776527f6430bd           0                0        0.0        0.0   \n",
       "55c694b10a1776527f643f13           1                0        0.0        0.0   \n",
       "\n",
       "                          t_topic_2  t_topic_3  t_topic_4  t_topic_5  \\\n",
       "tweet_id                                                               \n",
       "55c272820a1776527f63ad53        1.0        0.0        0.0        0.0   \n",
       "55c3bfea0a1776527f63df5b        0.0        0.0        0.0        0.0   \n",
       "55c5cf6f0a1776527f641ef3        0.0        0.0        0.0        0.0   \n",
       "55c63c020a1776527f6430bd        1.0        0.0        0.0        0.0   \n",
       "55c694b10a1776527f643f13        1.0        0.0        0.0        0.0   \n",
       "\n",
       "                          t_topic_6  \n",
       "tweet_id                             \n",
       "55c272820a1776527f63ad53        0.0  \n",
       "55c3bfea0a1776527f63df5b        0.0  \n",
       "55c5cf6f0a1776527f641ef3        0.0  \n",
       "55c63c020a1776527f6430bd        0.0  \n",
       "55c694b10a1776527f643f13        0.0  \n",
       "\n",
       "[5 rows x 21 columns]"
      ]
     },
     "execution_count": 33,
     "metadata": {},
     "output_type": "execute_result"
    }
   ],
   "source": [
    "gt_topic=gt[~gt['tweet_class'].isnull()]\n",
    "gt_topic=gt_topic.drop(['hashtags'] + hashtag_col + img_col +['tweet_class'], axis= 1)\n",
    "print(gt_topic.shape)\n",
    "gt_topic.head()"
   ]
  },
  {
   "cell_type": "code",
   "execution_count": 34,
   "metadata": {},
   "outputs": [
    {
     "name": "stdout",
     "output_type": "stream",
     "text": [
      "0.6352573018080667\n"
     ]
    }
   ],
   "source": [
    "gt_topic = gt_topic.sample(frac=1)\n",
    "train_topic=gt_topic.iloc[0:int(round(0.5*gt_topic.shape[0]))]\n",
    "val_topic=gt_topic.iloc[ int(round(0.5*gt_topic.shape[0])): int(round(0.75*gt_topic.shape[0]))]\n",
    "test_topic=gt_topic.iloc[int(round(0.75*gt_topic.shape[0])): int(gt_topic.shape[0])]\n",
    "\n",
    "mlp_topic= MLPClassifier(activation ='relu', solver='adam') #alpha=0.0001 #batch size =200 , max_iter 200\n",
    "mlp_topic.fit(train_topic.drop('label',axis=1).fillna(0), train_topic['label'].fillna(0).astype(int))\n",
    "score_topic = mlp_topic.score(test_topic.drop('label', axis =1).fillna(0),test_topic['label'])\n",
    "print(score_topic)"
   ]
  },
  {
   "cell_type": "markdown",
   "metadata": {},
   "source": [
    "## Model with all "
   ]
  },
  {
   "cell_type": "code",
   "execution_count": 35,
   "metadata": {
    "scrolled": true
   },
   "outputs": [
    {
     "name": "stdout",
     "output_type": "stream",
     "text": [
      "(1535, 37)\n",
      "0.6510416666666666\n"
     ]
    },
    {
     "name": "stderr",
     "output_type": "stream",
     "text": [
      "/Users/valentine/anaconda/envs/ada/lib/python3.5/site-packages/sklearn/neural_network/multilayer_perceptron.py:564: ConvergenceWarning: Stochastic Optimizer: Maximum iterations (200) reached and the optimization hasn't converged yet.\n",
      "  % self.max_iter, ConvergenceWarning)\n"
     ]
    }
   ],
   "source": [
    "gt_all=gt[~gt['tweet_class'].isnull() & ~gt['hashtags'].isnull() & ~gt['image_class'].isnull() ]\n",
    "gt_all=gt_all.drop(['hashtags']+ ['image_class', 'image_score'] + ['tweet_class'], axis= 1)\n",
    "print(gt_all.shape)\n",
    "\n",
    "\n",
    "gt_all = gt_all.sample(frac=1)\n",
    "train_all=gt_all.iloc[0:int(round(0.5*gt_all.shape[0]))]\n",
    "val_all=gt_all.iloc[ int(round(0.5*gt_all.shape[0])): int(round(0.75*gt_all.shape[0]))]\n",
    "test_all=gt_all.iloc[int(round(0.75*gt_all.shape[0])): int(gt_all.shape[0])]\n",
    "\n",
    "mlp_all= MLPClassifier(activation ='relu', solver='adam') #alpha=0.0001 #batch size =200 , max_iter 200\n",
    "mlp_all.fit(train_all.drop('label',axis=1).fillna(0), train_all['label'].fillna(0).astype(int))\n",
    "score_all = mlp_all.score(test_all.drop('label', axis =1).fillna(0),test_all['label'])\n",
    "print(score_all)"
   ]
  },
  {
   "cell_type": "markdown",
   "metadata": {},
   "source": [
    "## Model with text topics and hashtags"
   ]
  },
  {
   "cell_type": "code",
   "execution_count": 36,
   "metadata": {},
   "outputs": [
    {
     "name": "stdout",
     "output_type": "stream",
     "text": [
      "(8385, 29)\n",
      "0.683206106870229\n"
     ]
    }
   ],
   "source": [
    "gt_text_hashtags=gt[~gt['tweet_class'].isnull() & ~gt['hashtags'].isnull() ]\n",
    "gt_text_hashtags=gt_text_hashtags.drop(['hashtags']+ img_col + ['tweet_class'], axis= 1)\n",
    "print(gt_text_hashtags.shape)\n",
    "\n",
    "\n",
    "gt_text_hashtags = gt_text_hashtags.sample(frac=1)\n",
    "train_text_hashtags=gt_text_hashtags.iloc[0:int(round(0.5*gt_text_hashtags.shape[0]))]\n",
    "val_text_hashtags=gt_text_hashtags.iloc[ int(round(0.5*gt_text_hashtags.shape[0])): int(round(0.75*gt_text_hashtags.shape[0]))]\n",
    "test_text_hashtags=gt_text_hashtags.iloc[int(round(0.75*gt_text_hashtags.shape[0])): int(gt_text_hashtags.shape[0])]\n",
    "\n",
    "mlp_text_hashtags= MLPClassifier(activation ='relu', solver='adam') #alpha=0.0001 #batch size =200 , max_iter 200\n",
    "mlp_text_hashtags.fit(train_text_hashtags.drop('label',axis=1).fillna(0), train_text_hashtags['label'].fillna(0).astype(int))\n",
    "score_text_hashtags = mlp_text_hashtags.score(test_text_hashtags.drop('label', axis =1).fillna(0),test_text_hashtags['label'])\n",
    "print(score_text_hashtags)"
   ]
  },
  {
   "cell_type": "code",
   "execution_count": null,
   "metadata": {},
   "outputs": [],
   "source": []
  },
  {
   "cell_type": "code",
   "execution_count": null,
   "metadata": {},
   "outputs": [],
   "source": []
  }
 ],
 "metadata": {
  "kernelspec": {
   "display_name": "Python 3",
   "language": "python",
   "name": "python3"
  },
  "language_info": {
   "codemirror_mode": {
    "name": "ipython",
    "version": 3
   },
   "file_extension": ".py",
   "mimetype": "text/x-python",
   "name": "python",
   "nbconvert_exporter": "python",
   "pygments_lexer": "ipython3",
   "version": "3.6.5"
  }
 },
 "nbformat": 4,
 "nbformat_minor": 2
}
